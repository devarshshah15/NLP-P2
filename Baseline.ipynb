{
  "nbformat": 4,
  "nbformat_minor": 0,
  "metadata": {
    "colab": {
      "name": "NLPP2.ipynb",
      "provenance": [],
      "collapsed_sections": []
    },
    "kernelspec": {
      "name": "python3",
      "display_name": "Python 3"
    }
  },
  "cells": [
    {
      "cell_type": "code",
      "metadata": {
        "id": "lLxW3WqBq5ft",
        "outputId": "e82476ea-8701-41ec-e0bf-1221f1380b13",
        "colab": {
          "base_uri": "https://localhost:8080/",
          "height": 155
        }
      },
      "source": [
        "import pandas as pd\n",
        "from nltk import word_tokenize\n",
        "import re\n",
        "import nltk\n",
        "import numpy as np\n",
        "nltk.download('punkt')\n",
        "nltk.download('stopwords')\n",
        "from nltk.corpus import stopwords\n",
        "nltk.download('averaged_perceptron_tagger')\n",
        "from gensim.models.doc2vec import Doc2Vec, TaggedDocument\n",
        "from sklearn.svm import LinearSVC\n",
        "from sklearn.preprocessing import OneHotEncoder\n",
        "from sklearn import preprocessing\n",
        "from sklearn.model_selection import train_test_split\n",
        "from sklearn.metrics import classification_report\n",
        "from sklearn.metrics import accuracy_score,f1_score\n",
        "from sklearn.metrics import confusion_matrix\n",
        "from sklearn.ensemble import RandomForestClassifier\n",
        "from sklearn.naive_bayes import GaussianNB\n",
        "from sklearn.preprocessing import StandardScaler\n",
        "from sklearn.decomposition import PCA\n",
        "from sklearn.metrics import precision_score\n",
        "from sklearn.metrics import recall_score"
      ],
      "execution_count": 199,
      "outputs": [
        {
          "output_type": "stream",
          "text": [
            "[nltk_data] Downloading package punkt to /root/nltk_data...\n",
            "[nltk_data]   Package punkt is already up-to-date!\n",
            "[nltk_data] Downloading package stopwords to /root/nltk_data...\n",
            "[nltk_data]   Package stopwords is already up-to-date!\n",
            "[nltk_data] Downloading package averaged_perceptron_tagger to\n",
            "[nltk_data]     /root/nltk_data...\n",
            "[nltk_data]   Package averaged_perceptron_tagger is already up-to-\n",
            "[nltk_data]       date!\n"
          ],
          "name": "stdout"
        }
      ]
    },
    {
      "cell_type": "markdown",
      "metadata": {
        "id": "liYp3_f4IOzi"
      },
      "source": [
        "**Preprocessing Data**"
      ]
    },
    {
      "cell_type": "code",
      "metadata": {
        "id": "BLlZIqdGrKYl"
      },
      "source": [
        "df=pd.read_csv(\"p2_train.csv\")\n",
        "df_test=pd.read_csv(\"p2_test.csv\")\n",
        "df_question=df[\"question\"]\n",
        "df_response=df[\"response\"]\n",
        "df_question_test=df_test[\"question\"]\n",
        "df_response_test=df_test[\"response\"]\n"
      ],
      "execution_count": 200,
      "outputs": []
    },
    {
      "cell_type": "code",
      "metadata": {
        "id": "TVE9FX4poPkt"
      },
      "source": [
        "def preprocessor(text):\n",
        "  review=re.sub('\\[[^]]*\\]', ' ', str(text))\n",
        "  review=re.sub('[^a-zA-z]', ' ', str(text))\n",
        "  review=review.lower().split()\n",
        "  return review\n",
        "df_question=df_question.apply(preprocessor)\n",
        "df_response=df_response.apply(preprocessor)\n",
        "df_question_test=df_question_test.apply(preprocessor)\n",
        "df_response_test=df_response_test.apply(preprocessor)"
      ],
      "execution_count": 201,
      "outputs": []
    },
    {
      "cell_type": "markdown",
      "metadata": {
        "id": "MmowL72AkalO"
      },
      "source": [
        "**POS Tagging(Spacy)**"
      ]
    },
    {
      "cell_type": "code",
      "metadata": {
        "id": "vhlynwcgBR4Y"
      },
      "source": [
        "lst=[]\n",
        "for index, row in df_question.to_frame().iterrows():\n",
        "  for i in row:\n",
        "    string=\" \"\n",
        "    string=string.join(i)\n",
        "    tokens=word_tokenize(string)\n",
        "    lst.append(nltk.pos_tag(tokens))\n",
        "lst1=[]\n",
        "for index, row in df_response.to_frame().iterrows():\n",
        "  for i in row:\n",
        "    string=\" \"\n",
        "    string=string.join(i)\n",
        "    tokens=word_tokenize(string)\n",
        "    lst1.append(nltk.pos_tag(tokens))\n"
      ],
      "execution_count": 206,
      "outputs": []
    },
    {
      "cell_type": "code",
      "metadata": {
        "id": "PF3Et9G6atEM"
      },
      "source": [
        "lst_test=[]\n",
        "for index, row in df_question_test.to_frame().iterrows():\n",
        "  for i in row:\n",
        "    string=\" \"\n",
        "    string=string.join(i)\n",
        "    tokens=word_tokenize(string)\n",
        "    lst_test.append(nltk.pos_tag(tokens))\n",
        "lst1_test=[]\n",
        "for index, row in df_response_test.to_frame().iterrows():\n",
        "  for i in row:\n",
        "    string=\" \"\n",
        "    string=string.join(i)\n",
        "    tokens=word_tokenize(string)\n",
        "    lst1_test.append(nltk.pos_tag(tokens))\n",
        "\n"
      ],
      "execution_count": 207,
      "outputs": []
    },
    {
      "cell_type": "code",
      "metadata": {
        "id": "PJ9CalkG9sly"
      },
      "source": [
        "res=[]\n",
        "for i in lst:\n",
        "  combined_list=[]\n",
        "  for j in i:\n",
        "    combined_list.append(j[0]+\"/\"+j[1])\n",
        "  res.append(combined_list)\n",
        "res1=[]\n",
        "for i in lst1:\n",
        "  combined_list=[]\n",
        "  for j in i:\n",
        "    combined_list.append(j[0]+\"/\"+j[1])\n",
        "  res1.append(combined_list)\n",
        "   "
      ],
      "execution_count": 208,
      "outputs": []
    },
    {
      "cell_type": "code",
      "metadata": {
        "id": "dkMyq8WmHqdw"
      },
      "source": [
        "res_test=[]\n",
        "for i in lst_test:\n",
        "  combined_list=[]\n",
        "  for j in i:\n",
        "    combined_list.append(j[0]+\"/\"+j[1])\n",
        "  res_test.append(combined_list)\n",
        "res1_test=[]\n",
        "for i in lst1_test:\n",
        "  combined_list=[]\n",
        "  for j in i:\n",
        "    combined_list.append(j[0]+\"/\"+j[1])\n",
        "  res1_test.append(combined_list)\n"
      ],
      "execution_count": 209,
      "outputs": []
    },
    {
      "cell_type": "code",
      "metadata": {
        "id": "E9ll4Oi37Nx5",
        "outputId": "a4e5d5bd-ff6c-493f-8759-95fde61a0bc1",
        "colab": {
          "base_uri": "https://localhost:8080/",
          "height": 435
        }
      },
      "source": [
        "!python -m spacy download en_core_web_lg"
      ],
      "execution_count": 210,
      "outputs": [
        {
          "output_type": "stream",
          "text": [
            "Requirement already satisfied: en_core_web_lg==2.2.5 from https://github.com/explosion/spacy-models/releases/download/en_core_web_lg-2.2.5/en_core_web_lg-2.2.5.tar.gz#egg=en_core_web_lg==2.2.5 in /usr/local/lib/python3.6/dist-packages (2.2.5)\n",
            "Requirement already satisfied: spacy>=2.2.2 in /usr/local/lib/python3.6/dist-packages (from en_core_web_lg==2.2.5) (2.2.4)\n",
            "Requirement already satisfied: plac<1.2.0,>=0.9.6 in /usr/local/lib/python3.6/dist-packages (from spacy>=2.2.2->en_core_web_lg==2.2.5) (1.1.3)\n",
            "Requirement already satisfied: catalogue<1.1.0,>=0.0.7 in /usr/local/lib/python3.6/dist-packages (from spacy>=2.2.2->en_core_web_lg==2.2.5) (1.0.0)\n",
            "Requirement already satisfied: preshed<3.1.0,>=3.0.2 in /usr/local/lib/python3.6/dist-packages (from spacy>=2.2.2->en_core_web_lg==2.2.5) (3.0.2)\n",
            "Requirement already satisfied: numpy>=1.15.0 in /usr/local/lib/python3.6/dist-packages (from spacy>=2.2.2->en_core_web_lg==2.2.5) (1.18.5)\n",
            "Requirement already satisfied: cymem<2.1.0,>=2.0.2 in /usr/local/lib/python3.6/dist-packages (from spacy>=2.2.2->en_core_web_lg==2.2.5) (2.0.3)\n",
            "Requirement already satisfied: blis<0.5.0,>=0.4.0 in /usr/local/lib/python3.6/dist-packages (from spacy>=2.2.2->en_core_web_lg==2.2.5) (0.4.1)\n",
            "Requirement already satisfied: tqdm<5.0.0,>=4.38.0 in /usr/local/lib/python3.6/dist-packages (from spacy>=2.2.2->en_core_web_lg==2.2.5) (4.41.1)\n",
            "Requirement already satisfied: murmurhash<1.1.0,>=0.28.0 in /usr/local/lib/python3.6/dist-packages (from spacy>=2.2.2->en_core_web_lg==2.2.5) (1.0.2)\n",
            "Requirement already satisfied: thinc==7.4.0 in /usr/local/lib/python3.6/dist-packages (from spacy>=2.2.2->en_core_web_lg==2.2.5) (7.4.0)\n",
            "Requirement already satisfied: setuptools in /usr/local/lib/python3.6/dist-packages (from spacy>=2.2.2->en_core_web_lg==2.2.5) (50.3.0)\n",
            "Requirement already satisfied: wasabi<1.1.0,>=0.4.0 in /usr/local/lib/python3.6/dist-packages (from spacy>=2.2.2->en_core_web_lg==2.2.5) (0.8.0)\n",
            "Requirement already satisfied: requests<3.0.0,>=2.13.0 in /usr/local/lib/python3.6/dist-packages (from spacy>=2.2.2->en_core_web_lg==2.2.5) (2.23.0)\n",
            "Requirement already satisfied: srsly<1.1.0,>=1.0.2 in /usr/local/lib/python3.6/dist-packages (from spacy>=2.2.2->en_core_web_lg==2.2.5) (1.0.2)\n",
            "Requirement already satisfied: importlib-metadata>=0.20; python_version < \"3.8\" in /usr/local/lib/python3.6/dist-packages (from catalogue<1.1.0,>=0.0.7->spacy>=2.2.2->en_core_web_lg==2.2.5) (2.0.0)\n",
            "Requirement already satisfied: chardet<4,>=3.0.2 in /usr/local/lib/python3.6/dist-packages (from requests<3.0.0,>=2.13.0->spacy>=2.2.2->en_core_web_lg==2.2.5) (3.0.4)\n",
            "Requirement already satisfied: idna<3,>=2.5 in /usr/local/lib/python3.6/dist-packages (from requests<3.0.0,>=2.13.0->spacy>=2.2.2->en_core_web_lg==2.2.5) (2.10)\n",
            "Requirement already satisfied: urllib3!=1.25.0,!=1.25.1,<1.26,>=1.21.1 in /usr/local/lib/python3.6/dist-packages (from requests<3.0.0,>=2.13.0->spacy>=2.2.2->en_core_web_lg==2.2.5) (1.24.3)\n",
            "Requirement already satisfied: certifi>=2017.4.17 in /usr/local/lib/python3.6/dist-packages (from requests<3.0.0,>=2.13.0->spacy>=2.2.2->en_core_web_lg==2.2.5) (2020.6.20)\n",
            "Requirement already satisfied: zipp>=0.5 in /usr/local/lib/python3.6/dist-packages (from importlib-metadata>=0.20; python_version < \"3.8\"->catalogue<1.1.0,>=0.0.7->spacy>=2.2.2->en_core_web_lg==2.2.5) (3.2.0)\n",
            "\u001b[38;5;2m✔ Download and installation successful\u001b[0m\n",
            "You can now load the model via spacy.load('en_core_web_lg')\n"
          ],
          "name": "stdout"
        }
      ]
    },
    {
      "cell_type": "code",
      "metadata": {
        "id": "IQ0sdIny8Yhe"
      },
      "source": [
        "import spacy\n",
        "import en_core_web_lg\n",
        "nlp=en_core_web_lg.load()"
      ],
      "execution_count": 211,
      "outputs": []
    },
    {
      "cell_type": "markdown",
      "metadata": {
        "id": "hKpVf7IN5oid"
      },
      "source": [
        "**Calculating vectors of word**"
      ]
    },
    {
      "cell_type": "code",
      "metadata": {
        "id": "WYNBg6-Z7znw"
      },
      "source": [
        "def get_vector(x):\n",
        "    doc=nlp(x)\n",
        "    vec=doc.vector\n",
        "    return vec\n",
        "\n",
        "temp1,temp2=[],[]\n",
        "for i in res:\n",
        "    string=\" \"\n",
        "    string=string.join(i)\n",
        "    temp1.append(string)\n",
        "for i in res1:\n",
        "    string=\" \"\n",
        "    string=string.join(i)\n",
        "    temp2.append(string)\n",
        "question,response=pd.Series(temp1),pd.Series(temp2)\n",
        "question=question.apply(lambda x: get_vector(x))\n",
        "response=response.apply(lambda x: get_vector(x))\n",
        "question,response=question.to_numpy(),response.to_numpy()\n",
        "question,response=question.reshape(-1,1),response.reshape(-1,1)\n",
        "question=np.concatenate(np.concatenate(question,axis=0),axis=0).reshape(-1,300)\n",
        "response=np.concatenate(np.concatenate(response,axis=0),axis=0).reshape(-1,300)\n"
      ],
      "execution_count": 212,
      "outputs": []
    },
    {
      "cell_type": "code",
      "metadata": {
        "id": "E8Uy3tNl-hdG",
        "outputId": "eb4dfe68-2ddb-4198-9be8-7b3a1a41f8a8",
        "colab": {
          "base_uri": "https://localhost:8080/",
          "height": 35
        }
      },
      "source": [
        "final_vector=np.concatenate((question,response),axis=1)\n",
        "final_vector.shape"
      ],
      "execution_count": 213,
      "outputs": [
        {
          "output_type": "execute_result",
          "data": {
            "text/plain": [
              "(1640, 600)"
            ]
          },
          "metadata": {
            "tags": []
          },
          "execution_count": 213
        }
      ]
    },
    {
      "cell_type": "code",
      "metadata": {
        "id": "Rb-uojc_JbtY"
      },
      "source": [
        "temp1,temp2=[],[]\n",
        "for i in res_test:\n",
        "    string=\" \"\n",
        "    string=string.join(i)\n",
        "    temp1.append(string)\n",
        "for i in res1_test:\n",
        "    string=\" \"\n",
        "    string=string.join(i)\n",
        "    temp2.append(string)\n",
        "question,response=pd.Series(temp1),pd.Series(temp2)\n",
        "question=question.apply(lambda x: get_vector(x))\n",
        "response=response.apply(lambda x: get_vector(x))\n",
        "question,response=question.to_numpy(),response.to_numpy()\n",
        "question,response=question.reshape(-1,1),response.reshape(-1,1)\n",
        "question=np.concatenate(np.concatenate(question,axis=0),axis=0).reshape(-1,300)\n",
        "response=np.concatenate(np.concatenate(response,axis=0),axis=0).reshape(-1,300)"
      ],
      "execution_count": 214,
      "outputs": []
    },
    {
      "cell_type": "code",
      "metadata": {
        "id": "NLFan0MFJkfH",
        "outputId": "b8a29958-a90f-432a-d592-3c667b9cbf1e",
        "colab": {
          "base_uri": "https://localhost:8080/",
          "height": 35
        }
      },
      "source": [
        "final_vector_test=np.concatenate((question,response),axis=1)\n",
        "final_vector_test.shape\n"
      ],
      "execution_count": 215,
      "outputs": [
        {
          "output_type": "execute_result",
          "data": {
            "text/plain": [
              "(410, 600)"
            ]
          },
          "metadata": {
            "tags": []
          },
          "execution_count": 215
        }
      ]
    },
    {
      "cell_type": "code",
      "metadata": {
        "id": "PrwE_WUpJyqb"
      },
      "source": [
        "X_train,X_test,y_train,y_test=final_vector,final_vector_test,df[\"type\"],df_test[\"type\"]"
      ],
      "execution_count": 216,
      "outputs": []
    },
    {
      "cell_type": "code",
      "metadata": {
        "id": "Ft1WOxYWs6aP",
        "outputId": "bebacff7-6b97-4580-afde-438d709a7dd0",
        "colab": {
          "base_uri": "https://localhost:8080/",
          "height": 86
        }
      },
      "source": [
        "clf = RandomForestClassifier(n_estimators=15, random_state=10,class_weight=\"balanced\")\n",
        "clf.fit(X_train,y_train)\n",
        "predictions=clf.predict(X_test)\n",
        "print(\"Accuracy is\",accuracy_score(predictions,y_test))\n",
        "print(\"F1 Score is\",f1_score(predictions,y_test,average='weighted'))\n",
        "print(\"Precision Score is\",precision_score(predictions,y_test,average=\"weighted\"))\n",
        "print(\"Recall Score is\",recall_score(predictions,y_test,average=\"weighted\"))\n"
      ],
      "execution_count": 217,
      "outputs": [
        {
          "output_type": "stream",
          "text": [
            "Accuracy is 0.7682926829268293\n",
            "F1 Score is 0.8424488544566213\n",
            "Precision Score is 0.9408021872222772\n",
            "Recall Score is 0.7682926829268293\n"
          ],
          "name": "stdout"
        }
      ]
    },
    {
      "cell_type": "code",
      "metadata": {
        "id": "8So7TVWRs88l",
        "outputId": "b3bec651-9fe4-4b38-961c-84a12f98d397",
        "colab": {
          "base_uri": "https://localhost:8080/",
          "height": 86
        }
      },
      "source": [
        "print(confusion_matrix(predictions,y_test, labels=[\"answered\", \"attacked\", \"irrelevant\",\"agreed\"]))"
      ],
      "execution_count": 218,
      "outputs": [
        {
          "output_type": "stream",
          "text": [
            "[[311  38  35  12]\n",
            " [  3   0   0   0]\n",
            " [  6   1   3   0]\n",
            " [  0   0   0   1]]\n"
          ],
          "name": "stdout"
        }
      ]
    },
    {
      "cell_type": "markdown",
      "metadata": {
        "id": "-s62EQ5lqs8q"
      },
      "source": [
        "**Doc2Vec(POS tagging)**"
      ]
    },
    {
      "cell_type": "code",
      "metadata": {
        "id": "ol97jqNhqndx"
      },
      "source": [
        "tagged_question = [TaggedDocument(d, [i]) for i, d in enumerate(res)]\n",
        "tagged_response = [TaggedDocument(d, [i]) for i, d in enumerate(res1)]"
      ],
      "execution_count": 219,
      "outputs": []
    },
    {
      "cell_type": "code",
      "metadata": {
        "id": "34FNkRyAq0Ty",
        "outputId": "5450f3d7-594b-4909-ee35-cd5e339afcf2",
        "colab": {
          "base_uri": "https://localhost:8080/",
          "height": 72
        }
      },
      "source": [
        "model_question= Doc2Vec(vector_size=150)\n",
        "model_question.build_vocab(tagged_question)\n",
        "model_question.train(tagged_question, epochs=model_question.iter, total_examples=model_question.corpus_count)"
      ],
      "execution_count": 220,
      "outputs": [
        {
          "output_type": "stream",
          "text": [
            "/usr/local/lib/python3.6/dist-packages/ipykernel_launcher.py:3: DeprecationWarning: Call to deprecated `iter` (Attribute will be removed in 4.0.0, use self.epochs instead).\n",
            "  This is separate from the ipykernel package so we can avoid doing imports until\n"
          ],
          "name": "stderr"
        }
      ]
    },
    {
      "cell_type": "code",
      "metadata": {
        "id": "g1Yp9qvoq6Ed"
      },
      "source": [
        "array=np.zeros((len(res),150))\n",
        "for i in range(len(df_question)):\n",
        "  array[i,:]=model_question.docvecs[i].reshape((1,150))\n",
        "doc=pd.DataFrame(array)\n"
      ],
      "execution_count": 221,
      "outputs": []
    },
    {
      "cell_type": "code",
      "metadata": {
        "id": "t656_0K5rAJ_",
        "outputId": "1b658bea-ccb8-4779-8d3f-31469e1b863c",
        "colab": {
          "base_uri": "https://localhost:8080/",
          "height": 72
        }
      },
      "source": [
        "model_response=Doc2Vec(vector_size=150)\n",
        "model_response.build_vocab(tagged_response)\n",
        "model_response.train(tagged_response, epochs=model_response.iter, total_examples=model_response.corpus_count)\n"
      ],
      "execution_count": 222,
      "outputs": [
        {
          "output_type": "stream",
          "text": [
            "/usr/local/lib/python3.6/dist-packages/ipykernel_launcher.py:3: DeprecationWarning: Call to deprecated `iter` (Attribute will be removed in 4.0.0, use self.epochs instead).\n",
            "  This is separate from the ipykernel package so we can avoid doing imports until\n"
          ],
          "name": "stderr"
        }
      ]
    },
    {
      "cell_type": "code",
      "metadata": {
        "id": "KIx0XcJsrEOO"
      },
      "source": [
        "array=np.zeros((len(res1),150))\n",
        "for i in range(len(df_response)):\n",
        "  array[i,:]=model_response.docvecs[i].reshape((1,150))\n",
        "doc1=pd.DataFrame(array)\n"
      ],
      "execution_count": 223,
      "outputs": []
    },
    {
      "cell_type": "code",
      "metadata": {
        "id": "InvieI84rKch",
        "outputId": "88c35e60-ede9-4d3e-bbe5-ad7bf7af235b",
        "colab": {
          "base_uri": "https://localhost:8080/",
          "height": 35
        }
      },
      "source": [
        "fv=np.concatenate((doc,doc1),axis=1)\n",
        "fv.shape"
      ],
      "execution_count": 224,
      "outputs": [
        {
          "output_type": "execute_result",
          "data": {
            "text/plain": [
              "(1640, 300)"
            ]
          },
          "metadata": {
            "tags": []
          },
          "execution_count": 224
        }
      ]
    },
    {
      "cell_type": "code",
      "metadata": {
        "id": "-tdqYTnDrNkz"
      },
      "source": [
        "tagged_question_test = [TaggedDocument(d, [i]) for i, d in enumerate(res_test)]\n",
        "tagged_response_test = [TaggedDocument(d, [i]) for i, d in enumerate(res1_test)]"
      ],
      "execution_count": 225,
      "outputs": []
    },
    {
      "cell_type": "code",
      "metadata": {
        "id": "4UaUmjiyrRbf",
        "outputId": "cf1f17a6-e621-4131-d87f-2894d77d8496",
        "colab": {
          "base_uri": "https://localhost:8080/",
          "height": 72
        }
      },
      "source": [
        "model_question_test= Doc2Vec(vector_size=150)\n",
        "model_question_test.build_vocab(tagged_question_test)\n",
        "model_question_test.train(tagged_question_test, epochs=model_question_test.iter, total_examples=model_question_test.corpus_count)"
      ],
      "execution_count": 226,
      "outputs": [
        {
          "output_type": "stream",
          "text": [
            "/usr/local/lib/python3.6/dist-packages/ipykernel_launcher.py:3: DeprecationWarning: Call to deprecated `iter` (Attribute will be removed in 4.0.0, use self.epochs instead).\n",
            "  This is separate from the ipykernel package so we can avoid doing imports until\n"
          ],
          "name": "stderr"
        }
      ]
    },
    {
      "cell_type": "code",
      "metadata": {
        "id": "-KTx75cUrWo2"
      },
      "source": [
        "array=np.zeros((len(res_test),150))\n",
        "for i in range(len(df_question_test)):\n",
        "  array[i,:]=model_question_test.docvecs[i].reshape((1,150))\n",
        "doc=pd.DataFrame(array)\n"
      ],
      "execution_count": 227,
      "outputs": []
    },
    {
      "cell_type": "code",
      "metadata": {
        "id": "Wm2rm41Rravk",
        "outputId": "94261b3b-0aff-462c-d0be-ed74183d74a2",
        "colab": {
          "base_uri": "https://localhost:8080/",
          "height": 72
        }
      },
      "source": [
        "model_response_test=Doc2Vec(vector_size=150)\n",
        "model_response_test.build_vocab(tagged_response_test)\n",
        "model_response_test.train(tagged_response_test, epochs=model_response_test.iter, total_examples=model_response_test.corpus_count)\n"
      ],
      "execution_count": 228,
      "outputs": [
        {
          "output_type": "stream",
          "text": [
            "/usr/local/lib/python3.6/dist-packages/ipykernel_launcher.py:3: DeprecationWarning: Call to deprecated `iter` (Attribute will be removed in 4.0.0, use self.epochs instead).\n",
            "  This is separate from the ipykernel package so we can avoid doing imports until\n"
          ],
          "name": "stderr"
        }
      ]
    },
    {
      "cell_type": "code",
      "metadata": {
        "id": "w5u_o7InrfY3"
      },
      "source": [
        "array=np.zeros((len(res1_test),150))\n",
        "for i in range(len(df_response_test)):\n",
        "  array[i,:]=model_response_test.docvecs[i].reshape((1,150))\n",
        "doc1=pd.DataFrame(array)\n"
      ],
      "execution_count": 229,
      "outputs": []
    },
    {
      "cell_type": "code",
      "metadata": {
        "id": "h1dgDKAkrjmj",
        "outputId": "4a0acb68-4283-4229-bafa-3c18737f5bad",
        "colab": {
          "base_uri": "https://localhost:8080/",
          "height": 35
        }
      },
      "source": [
        "fv_test=np.concatenate((doc,doc1),axis=1)\n",
        "fv_test.shape"
      ],
      "execution_count": 230,
      "outputs": [
        {
          "output_type": "execute_result",
          "data": {
            "text/plain": [
              "(410, 300)"
            ]
          },
          "metadata": {
            "tags": []
          },
          "execution_count": 230
        }
      ]
    },
    {
      "cell_type": "code",
      "metadata": {
        "id": "2ylGtK3qrnTw"
      },
      "source": [
        "X_train,X_test,y_train,y_test=final_vector,final_vector_test,df[\"type\"],df_test[\"type\"]"
      ],
      "execution_count": 231,
      "outputs": []
    },
    {
      "cell_type": "code",
      "metadata": {
        "id": "13Wh_cjWsCRl",
        "outputId": "91c0e175-6dc6-4f24-f28a-bebf59c425ae",
        "colab": {
          "base_uri": "https://localhost:8080/",
          "height": 86
        }
      },
      "source": [
        "clf = RandomForestClassifier(n_estimators=10, random_state=5,class_weight=\"balanced\")\n",
        "clf.fit(X_train,y_train)\n",
        "predictions=clf.predict(X_test)\n",
        "print(\"Accuracy is\",accuracy_score(predictions,y_test))\n",
        "print(\"F1 Score is\",f1_score(predictions,y_test,average='weighted'))\n",
        "print(\"Precision Score is\",precision_score(predictions,y_test,average=\"weighted\"))\n",
        "print(\"Recall Score is\",recall_score(predictions,y_test,average=\"weighted\"))\n"
      ],
      "execution_count": 232,
      "outputs": [
        {
          "output_type": "stream",
          "text": [
            "Accuracy is 0.7195121951219512\n",
            "F1 Score is 0.7593158583146663\n",
            "Precision Score is 0.8097363483756295\n",
            "Recall Score is 0.7195121951219512\n"
          ],
          "name": "stdout"
        }
      ]
    },
    {
      "cell_type": "code",
      "metadata": {
        "id": "SLM1syL_sEU8",
        "outputId": "860aa89e-b42a-4803-e74b-77b7fdcbda81",
        "colab": {
          "base_uri": "https://localhost:8080/",
          "height": 86
        }
      },
      "source": [
        "print(confusion_matrix(predictions,y_test, labels=[\"answered\", \"attacked\", \"irrelevant\",\"agreed\"]))"
      ],
      "execution_count": 233,
      "outputs": [
        {
          "output_type": "stream",
          "text": [
            "[[288  35  32  10]\n",
            " [ 21   3   3   2]\n",
            " [ 11   1   3   0]\n",
            " [  0   0   0   1]]\n"
          ],
          "name": "stdout"
        }
      ]
    },
    {
      "cell_type": "markdown",
      "metadata": {
        "id": "dKMAMy995Drr"
      },
      "source": [
        "**Sentence Embeddings(Spacy)**"
      ]
    },
    {
      "cell_type": "code",
      "metadata": {
        "id": "h3BLmdPf5QzR"
      },
      "source": [
        "que=[]\n",
        "for i in df_question:\n",
        "  que.append(i)\n",
        "resp=[]\n",
        "for i in df_response:\n",
        "  resp.append(i)\n",
        "que_test=[]\n",
        "for i in df_question_test:\n",
        "  que_test.append(i)\n",
        "resp_test=[]\n",
        "for i in df_response_test:\n",
        "  resp_test.append(i)\n",
        "\n",
        " \n",
        "  "
      ],
      "execution_count": 234,
      "outputs": []
    },
    {
      "cell_type": "code",
      "metadata": {
        "id": "yRHYDv63PuSy"
      },
      "source": [
        "def get_vector(x):\n",
        "    doc=nlp(x)\n",
        "    vec=doc.vector\n",
        "    return vec\n",
        "temp1,temp2=[],[]\n",
        "for i in que:\n",
        "    string=\" \"\n",
        "    string=string.join(i)\n",
        "    temp1.append(string)\n",
        "for i in resp:\n",
        "    string=\" \"\n",
        "    string=string.join(i)\n",
        "    temp2.append(string)\n",
        "question,response=pd.Series(temp1),pd.Series(temp2)\n",
        "question=question.apply(lambda x: get_vector(x))\n",
        "response=response.apply(lambda x: get_vector(x))\n",
        "question,response=question.to_numpy(),response.to_numpy()\n",
        "question,response=question.reshape(-1,1),response.reshape(-1,1)\n",
        "question_train=np.concatenate(np.concatenate(question,axis=0),axis=0).reshape(-1,300)\n",
        "response_train=np.concatenate(np.concatenate(response,axis=0),axis=0).reshape(-1,300)"
      ],
      "execution_count": 235,
      "outputs": []
    },
    {
      "cell_type": "code",
      "metadata": {
        "id": "0HAojIZqRnTk",
        "outputId": "19d53068-797d-4f6e-96a3-a681ea5914ba",
        "colab": {
          "base_uri": "https://localhost:8080/",
          "height": 35
        }
      },
      "source": [
        "final_vector_1=np.concatenate((question_train,response_train),axis=1)\n",
        "final_vector_1.shape"
      ],
      "execution_count": 236,
      "outputs": [
        {
          "output_type": "execute_result",
          "data": {
            "text/plain": [
              "(1640, 600)"
            ]
          },
          "metadata": {
            "tags": []
          },
          "execution_count": 236
        }
      ]
    },
    {
      "cell_type": "code",
      "metadata": {
        "id": "IY8A8ooyP9EQ"
      },
      "source": [
        "temp1,temp2=[],[]\n",
        "for i in que_test:\n",
        "    string=\" \"\n",
        "    string=string.join(i)\n",
        "    temp1.append(string)\n",
        "for i in resp_test:\n",
        "    string=\" \"\n",
        "    string=string.join(i)\n",
        "    temp2.append(string)\n",
        "question,response=pd.Series(temp1),pd.Series(temp2)\n",
        "question=question.apply(lambda x: get_vector(x))\n",
        "response=response.apply(lambda x: get_vector(x))\n",
        "question,response=question.to_numpy(),response.to_numpy()\n",
        "question,response=question.reshape(-1,1),response.reshape(-1,1)\n",
        "question_test=np.concatenate(np.concatenate(question,axis=0),axis=0).reshape(-1,300)\n",
        "response_test=np.concatenate(np.concatenate(response,axis=0),axis=0).reshape(-1,300)"
      ],
      "execution_count": 237,
      "outputs": []
    },
    {
      "cell_type": "code",
      "metadata": {
        "id": "UvNHiVNjRmyL",
        "outputId": "57ba4e26-2dda-41ec-85e1-c70eddd0fd2e",
        "colab": {
          "base_uri": "https://localhost:8080/",
          "height": 35
        }
      },
      "source": [
        "final_vector_1_test=np.concatenate((question_test,response_test),axis=1)\n",
        "final_vector_1_test.shape"
      ],
      "execution_count": 238,
      "outputs": [
        {
          "output_type": "execute_result",
          "data": {
            "text/plain": [
              "(410, 600)"
            ]
          },
          "metadata": {
            "tags": []
          },
          "execution_count": 238
        }
      ]
    },
    {
      "cell_type": "code",
      "metadata": {
        "id": "3JxXw6t7SYmu"
      },
      "source": [
        "X_train,X_test,y_train,y_test=final_vector,final_vector_test,df[\"type\"],df_test[\"type\"]"
      ],
      "execution_count": 239,
      "outputs": []
    },
    {
      "cell_type": "code",
      "metadata": {
        "id": "a89q1sxiSf3p",
        "outputId": "b09d7e96-2d93-415e-d625-6de2a47b4b38",
        "colab": {
          "base_uri": "https://localhost:8080/",
          "height": 141
        }
      },
      "source": [
        "clf=LinearSVC(class_weight='balanced')\n",
        "clf.fit(X_train,y_train)\n",
        "predictions=clf.predict(X_test)\n",
        "print(\"Accuracy is\",accuracy_score(predictions,y_test))\n",
        "print(\"F1 Score is\",f1_score(predictions,y_test,average='weighted'))\n",
        "print(\"Precision Score is\",precision_score(predictions,y_test,average=\"weighted\"))\n",
        "print(\"Recall Score is\",recall_score(predictions,y_test,average=\"weighted\"))\n"
      ],
      "execution_count": 240,
      "outputs": [
        {
          "output_type": "stream",
          "text": [
            "Accuracy is 0.6292682926829268\n",
            "F1 Score is 0.5958796466007044\n",
            "Precision Score is 0.5761118791349857\n",
            "Recall Score is 0.6292682926829268\n"
          ],
          "name": "stdout"
        },
        {
          "output_type": "stream",
          "text": [
            "/usr/local/lib/python3.6/dist-packages/sklearn/svm/_base.py:947: ConvergenceWarning: Liblinear failed to converge, increase the number of iterations.\n",
            "  \"the number of iterations.\", ConvergenceWarning)\n"
          ],
          "name": "stderr"
        }
      ]
    },
    {
      "cell_type": "code",
      "metadata": {
        "id": "PxtTMyQRp_4J",
        "outputId": "d936840a-cb9e-4426-ffaa-82d2f22e5120",
        "colab": {
          "base_uri": "https://localhost:8080/",
          "height": 86
        }
      },
      "source": [
        "print(confusion_matrix(predictions,y_test, labels=[\"answered\", \"attacked\", \"irrelevant\",\"agreed\"]))"
      ],
      "execution_count": 241,
      "outputs": [
        {
          "output_type": "stream",
          "text": [
            "[[233  16  15   8]\n",
            " [ 36  12   9   1]\n",
            " [ 37   9  11   2]\n",
            " [ 14   2   3   2]]\n"
          ],
          "name": "stdout"
        }
      ]
    },
    {
      "cell_type": "code",
      "metadata": {
        "id": "9U_ud8oElkne",
        "outputId": "aa2eaa25-0557-4e77-e15f-4a1e7e8416d0",
        "colab": {
          "base_uri": "https://localhost:8080/",
          "height": 141
        }
      },
      "source": [
        "clf = RandomForestClassifier(n_estimators=10, random_state=0,class_weight=\"balanced\")\n",
        "clf.fit(X_train,y_train)\n",
        "predictions=clf.predict(X_test)\n",
        "print(\"Accuracy is\",accuracy_score(predictions,y_test))\n",
        "print(\"F1 Score is\",f1_score(predictions,y_test,average='weighted'))\n",
        "print(\"Precision Score is\",precision_score(predictions,y_test,average=\"weighted\"))\n",
        "print(\"Recall Score is\",recall_score(predictions,y_test,average=\"weighted\"))\n"
      ],
      "execution_count": 242,
      "outputs": [
        {
          "output_type": "stream",
          "text": [
            "Accuracy is 0.748780487804878\n",
            "F1 Score is 0.8125994521977304\n",
            "Precision Score is 0.8922593068035943\n",
            "Recall Score is 0.748780487804878\n"
          ],
          "name": "stdout"
        },
        {
          "output_type": "stream",
          "text": [
            "/usr/local/lib/python3.6/dist-packages/sklearn/metrics/_classification.py:1272: UndefinedMetricWarning: Recall is ill-defined and being set to 0.0 in labels with no true samples. Use `zero_division` parameter to control this behavior.\n",
            "  _warn_prf(average, modifier, msg_start, len(result))\n"
          ],
          "name": "stderr"
        }
      ]
    },
    {
      "cell_type": "code",
      "metadata": {
        "id": "27wSJyc0jAbV",
        "outputId": "25b9f86d-9389-4e6f-ad12-a00268e68524",
        "colab": {
          "base_uri": "https://localhost:8080/",
          "height": 86
        }
      },
      "source": [
        "print(confusion_matrix(predictions,y_test, labels=[\"answered\", \"attacked\", \"irrelevant\",\"agreed\"]))"
      ],
      "execution_count": 243,
      "outputs": [
        {
          "output_type": "stream",
          "text": [
            "[[304  36  33  11]\n",
            " [ 10   0   2   1]\n",
            " [  6   3   3   1]\n",
            " [  0   0   0   0]]\n"
          ],
          "name": "stdout"
        }
      ]
    },
    {
      "cell_type": "markdown",
      "metadata": {
        "id": "tynBOcnl3pjr"
      },
      "source": [
        "**PCA(dimensionality reduction)**"
      ]
    },
    {
      "cell_type": "code",
      "metadata": {
        "id": "ng5PczX8AcRh",
        "outputId": "6c0bdc8d-259e-419b-a4c5-1247806785b5",
        "colab": {
          "base_uri": "https://localhost:8080/",
          "height": 35
        }
      },
      "source": [
        "pca_train=np.concatenate((final_vector,final_vector_1),axis=1)\n",
        "pca_train.shape\n"
      ],
      "execution_count": 244,
      "outputs": [
        {
          "output_type": "execute_result",
          "data": {
            "text/plain": [
              "(1640, 1200)"
            ]
          },
          "metadata": {
            "tags": []
          },
          "execution_count": 244
        }
      ]
    },
    {
      "cell_type": "code",
      "metadata": {
        "id": "oPCibuAXA0cT",
        "outputId": "4c597119-6836-4210-eb0a-c073193ee12d",
        "colab": {
          "base_uri": "https://localhost:8080/",
          "height": 35
        }
      },
      "source": [
        "pca_test=np.concatenate((final_vector_test,final_vector_1_test),axis=1)\n",
        "pca_test.shape"
      ],
      "execution_count": 245,
      "outputs": [
        {
          "output_type": "execute_result",
          "data": {
            "text/plain": [
              "(410, 1200)"
            ]
          },
          "metadata": {
            "tags": []
          },
          "execution_count": 245
        }
      ]
    },
    {
      "cell_type": "code",
      "metadata": {
        "id": "IfZ27iOYBzq2"
      },
      "source": [
        "scaler = StandardScaler()\n",
        "pca_train = scaler.fit_transform(pca_train)\n",
        "pca_test =scaler.fit_transform(pca_test)"
      ],
      "execution_count": 246,
      "outputs": []
    },
    {
      "cell_type": "code",
      "metadata": {
        "id": "HUst3sIvA8Xd"
      },
      "source": [
        "pca = PCA(n_components=100)\n",
        "pca.fit(pca_train)\n",
        "a=pca.transform(pca_train)"
      ],
      "execution_count": 247,
      "outputs": []
    },
    {
      "cell_type": "code",
      "metadata": {
        "id": "_jVB90qSCU2N"
      },
      "source": [
        "pca = PCA(n_components=100)\n",
        "pca.fit(pca_test)\n",
        "b=pca.transform(pca_test)"
      ],
      "execution_count": 248,
      "outputs": []
    },
    {
      "cell_type": "markdown",
      "metadata": {
        "id": "3ANbdqtz5754"
      },
      "source": [
        "**Set 1: Baseline Features(Evaluation Metrics)**"
      ]
    },
    {
      "cell_type": "code",
      "metadata": {
        "id": "HW7eiTYgCeDM"
      },
      "source": [
        "X_train,X_test,y_train,y_test=a,b,df[\"type\"],df_test[\"type\"]"
      ],
      "execution_count": 249,
      "outputs": []
    },
    {
      "cell_type": "code",
      "metadata": {
        "id": "Oe2-eTss-Z2g",
        "outputId": "fccca42f-d3c0-40da-8a3f-025939e31cf1",
        "colab": {
          "base_uri": "https://localhost:8080/",
          "height": 141
        }
      },
      "source": [
        "clf=LinearSVC()\n",
        "clf.fit(X_train,y_train)\n",
        "predictions=clf.predict(X_test)\n",
        "print(\"Accuracy is\",accuracy_score(predictions,y_test))\n",
        "print(\"F1 Score is\",f1_score(predictions,y_test,average='weighted'))\n",
        "print(\"Precision Score is\",precision_score(predictions,y_test,average=\"weighted\"))\n",
        "print(\"Recall Score is\",recall_score(predictions,y_test,average=\"weighted\"))\n"
      ],
      "execution_count": 256,
      "outputs": [
        {
          "output_type": "stream",
          "text": [
            "Accuracy is 0.6121951219512195\n",
            "F1 Score is 0.6063913888667675\n",
            "Precision Score is 0.6021019921990718\n",
            "Recall Score is 0.6121951219512196\n"
          ],
          "name": "stdout"
        },
        {
          "output_type": "stream",
          "text": [
            "/usr/local/lib/python3.6/dist-packages/sklearn/svm/_base.py:947: ConvergenceWarning: Liblinear failed to converge, increase the number of iterations.\n",
            "  \"the number of iterations.\", ConvergenceWarning)\n"
          ],
          "name": "stderr"
        }
      ]
    },
    {
      "cell_type": "code",
      "metadata": {
        "id": "nJ-SDsUp-cD2",
        "outputId": "3716e71e-8e83-4d24-eaeb-a5181bc677fe",
        "colab": {
          "base_uri": "https://localhost:8080/",
          "height": 86
        }
      },
      "source": [
        "print(confusion_matrix(y_test,predictions, labels=[\"answered\", \"attacked\", \"irrelevant\",\"agreed\"]))"
      ],
      "execution_count": 257,
      "outputs": [
        {
          "output_type": "stream",
          "text": [
            "[[241  45  31   3]\n",
            " [ 36   3   0   0]\n",
            " [ 26   6   6   0]\n",
            " [ 11   1   0   1]]\n"
          ],
          "name": "stdout"
        }
      ]
    },
    {
      "cell_type": "code",
      "metadata": {
        "id": "8mJUz2lbCjj3",
        "outputId": "afe058fa-bf3f-45b3-e6d8-126f7243168d",
        "colab": {
          "base_uri": "https://localhost:8080/",
          "height": 86
        }
      },
      "source": [
        "clf = RandomForestClassifier(n_estimators=10, random_state=20,class_weight=\"balanced\")\n",
        "clf.fit(X_train,y_train)\n",
        "predictions=clf.predict(X_test)\n",
        "print(\"Accuracy is\",accuracy_score(predictions,y_test))\n",
        "print(\"F1 Score is\",f1_score(predictions,y_test,average='weighted'))\n",
        "print(\"Precision Score is\",precision_score(predictions,y_test,average=\"weighted\"))\n",
        "print(\"Recall Score is\",recall_score(predictions,y_test,average=\"weighted\"))\n"
      ],
      "execution_count": 258,
      "outputs": [
        {
          "output_type": "stream",
          "text": [
            "Accuracy is 0.748780487804878\n",
            "F1 Score is 0.8115681304824148\n",
            "Precision Score is 0.8920418497580725\n",
            "Recall Score is 0.748780487804878\n"
          ],
          "name": "stdout"
        }
      ]
    },
    {
      "cell_type": "code",
      "metadata": {
        "id": "3BQt_6w0CnSi",
        "outputId": "016f9c75-c826-47cd-f6bd-a068232e1bb6",
        "colab": {
          "base_uri": "https://localhost:8080/",
          "height": 86
        }
      },
      "source": [
        "print(confusion_matrix(y_test, predictions,labels=[\"answered\", \"attacked\", \"irrelevant\",\"agreed\"]))"
      ],
      "execution_count": 259,
      "outputs": [
        {
          "output_type": "stream",
          "text": [
            "[[303  10   5   2]\n",
            " [ 36   2   1   0]\n",
            " [ 33   3   2   0]\n",
            " [ 13   0   0   0]]\n"
          ],
          "name": "stdout"
        }
      ]
    },
    {
      "cell_type": "code",
      "metadata": {
        "id": "lpIT-8ST-W1C",
        "outputId": "f0f548f4-ff2a-43c5-93cf-1974ebb25956",
        "colab": {
          "base_uri": "https://localhost:8080/",
          "height": 1000
        }
      },
      "source": [
        "df_final = pd.read_csv('p2_test.csv')\n",
        "df_final['predicted_type']=predictions\n",
        "df_final=df_final.rename(columns={\"label\": \"gold_type\"})\n",
        "df_final"
      ],
      "execution_count": 262,
      "outputs": [
        {
          "output_type": "execute_result",
          "data": {
            "text/html": [
              "<div>\n",
              "<style scoped>\n",
              "    .dataframe tbody tr th:only-of-type {\n",
              "        vertical-align: middle;\n",
              "    }\n",
              "\n",
              "    .dataframe tbody tr th {\n",
              "        vertical-align: top;\n",
              "    }\n",
              "\n",
              "    .dataframe thead th {\n",
              "        text-align: right;\n",
              "    }\n",
              "</style>\n",
              "<table border=\"1\" class=\"dataframe\">\n",
              "  <thead>\n",
              "    <tr style=\"text-align: right;\">\n",
              "      <th></th>\n",
              "      <th>thread_id</th>\n",
              "      <th>question_id</th>\n",
              "      <th>response_id</th>\n",
              "      <th>no_turn_q_id</th>\n",
              "      <th>quoted_q_id</th>\n",
              "      <th>precedent</th>\n",
              "      <th>question</th>\n",
              "      <th>subsequent</th>\n",
              "      <th>response</th>\n",
              "      <th>type</th>\n",
              "      <th>predicted_type</th>\n",
              "    </tr>\n",
              "  </thead>\n",
              "  <tbody>\n",
              "    <tr>\n",
              "      <th>0</th>\n",
              "      <td>232fcl</td>\n",
              "      <td>232fcl</td>\n",
              "      <td>cgsrxd3</td>\n",
              "      <td>NaN</td>\n",
              "      <td>q_27319</td>\n",
              "      <td>NaN</td>\n",
              "      <td>Now if Julie was underage (let's say you and ...</td>\n",
              "      <td>NaN</td>\n",
              "      <td>\\nNo. She's happy, he's happy, who am I to end...</td>\n",
              "      <td>irrelevant</td>\n",
              "      <td>answered</td>\n",
              "    </tr>\n",
              "    <tr>\n",
              "      <th>1</th>\n",
              "      <td>221bir</td>\n",
              "      <td>cgikp7a</td>\n",
              "      <td>cginbgy</td>\n",
              "      <td>n_228942</td>\n",
              "      <td>q_28801</td>\n",
              "      <td>And Egypt...there was a lot of chaos, a lot of...</td>\n",
              "      <td>Did the protests motivate the military to act?</td>\n",
              "      <td>Undoubtedly. But it was still the military tha...</td>\n",
              "      <td>Seems a weird example to use in defence of an ...</td>\n",
              "      <td>attacked</td>\n",
              "      <td>answered</td>\n",
              "    </tr>\n",
              "    <tr>\n",
              "      <th>2</th>\n",
              "      <td>20s1x1</td>\n",
              "      <td>cg6ay9r</td>\n",
              "      <td>cg6f18i</td>\n",
              "      <td>n_244708</td>\n",
              "      <td>q_30570</td>\n",
              "      <td>&amp;gt; Hello! Both my major AND my minor are due...</td>\n",
              "      <td>Can you illustrate how a single class in CS w...</td>\n",
              "      <td>Your statement that way more happiness is ach...</td>\n",
              "      <td>Oh gods yes. First of all, most students aren'...</td>\n",
              "      <td>answered</td>\n",
              "      <td>answered</td>\n",
              "    </tr>\n",
              "    <tr>\n",
              "      <th>3</th>\n",
              "      <td>1zyf3k</td>\n",
              "      <td>cfzfpej</td>\n",
              "      <td>cfzg0hy</td>\n",
              "      <td>n_254761</td>\n",
              "      <td>q_31795</td>\n",
              "      <td>Oh, come on, now you're just trying to misunde...</td>\n",
              "      <td>Didn't I even say, that I am completely and 10...</td>\n",
              "      <td>Let me make it very clear: I am an universal ...</td>\n",
              "      <td>Sure, but you still obviously have some precon...</td>\n",
              "      <td>irrelevant</td>\n",
              "      <td>answered</td>\n",
              "    </tr>\n",
              "    <tr>\n",
              "      <th>4</th>\n",
              "      <td>1yfntu</td>\n",
              "      <td>cfka1pw</td>\n",
              "      <td>cfkar3s</td>\n",
              "      <td>NaN</td>\n",
              "      <td>q_34113</td>\n",
              "      <td>NaN</td>\n",
              "      <td>However if we forget that debate for a minute...</td>\n",
              "      <td>NaN</td>\n",
              "      <td>I'd be willing to guess that this question is ...</td>\n",
              "      <td>attacked</td>\n",
              "      <td>answered</td>\n",
              "    </tr>\n",
              "    <tr>\n",
              "      <th>...</th>\n",
              "      <td>...</td>\n",
              "      <td>...</td>\n",
              "      <td>...</td>\n",
              "      <td>...</td>\n",
              "      <td>...</td>\n",
              "      <td>...</td>\n",
              "      <td>...</td>\n",
              "      <td>...</td>\n",
              "      <td>...</td>\n",
              "      <td>...</td>\n",
              "      <td>...</td>\n",
              "    </tr>\n",
              "    <tr>\n",
              "      <th>405</th>\n",
              "      <td>2sr2st</td>\n",
              "      <td>cns3qwy</td>\n",
              "      <td>cns4t4s</td>\n",
              "      <td>n_632548</td>\n",
              "      <td>q_78351</td>\n",
              "      <td>So, just to be clear, if a woman refused to ha...</td>\n",
              "      <td>Am I getting this right?</td>\n",
              "      <td>But if it's just about the money, would you b...</td>\n",
              "      <td>Yes</td>\n",
              "      <td>answered</td>\n",
              "      <td>answered</td>\n",
              "    </tr>\n",
              "    <tr>\n",
              "      <th>406</th>\n",
              "      <td>38x7jw</td>\n",
              "      <td>38x7jw</td>\n",
              "      <td>crykb9x</td>\n",
              "      <td>NaN</td>\n",
              "      <td>q_8321</td>\n",
              "      <td>NaN</td>\n",
              "      <td>Further evidence that merely being overweight ...</td>\n",
              "      <td>NaN</td>\n",
              "      <td>\\n</td>\n",
              "      <td>irrelevant</td>\n",
              "      <td>irrelevant</td>\n",
              "    </tr>\n",
              "    <tr>\n",
              "      <th>407</th>\n",
              "      <td>2ija3a</td>\n",
              "      <td>cl2zs70</td>\n",
              "      <td>cl33t6t</td>\n",
              "      <td>n_65173</td>\n",
              "      <td>q_8864</td>\n",
              "      <td>Why? Just because it's expected of us?</td>\n",
              "      <td>By who?</td>\n",
              "      <td>This is hardly ever a good reason for doing or...</td>\n",
              "      <td>Maybe I didn't phrase this first point well. B...</td>\n",
              "      <td>answered</td>\n",
              "      <td>answered</td>\n",
              "    </tr>\n",
              "    <tr>\n",
              "      <th>408</th>\n",
              "      <td>2hqis0</td>\n",
              "      <td>ckve18f</td>\n",
              "      <td>ckvh0bt</td>\n",
              "      <td>n_70808</td>\n",
              "      <td>q_9521</td>\n",
              "      <td>&amp;gt; You don't have to but you should be able ...</td>\n",
              "      <td>Why are the consequences of everyone taking a...</td>\n",
              "      <td>If everyone became a dental hygienist we'd al...</td>\n",
              "      <td>It's worth considering the societal implicatio...</td>\n",
              "      <td>answered</td>\n",
              "      <td>answered</td>\n",
              "    </tr>\n",
              "    <tr>\n",
              "      <th>409</th>\n",
              "      <td>2qoom3</td>\n",
              "      <td>cn89k72</td>\n",
              "      <td>cn8n79c</td>\n",
              "      <td>n_7489</td>\n",
              "      <td>q_997</td>\n",
              "      <td>\\n&amp;gt;This is all well and good but this has ...</td>\n",
              "      <td>Consider this: Who has the right to say &lt;&amp;quot...</td>\n",
              "      <td>I think it is fair to say that the owner of t...</td>\n",
              "      <td>Well, really no one. Beauty, I think, is subje...</td>\n",
              "      <td>answered</td>\n",
              "      <td>answered</td>\n",
              "    </tr>\n",
              "  </tbody>\n",
              "</table>\n",
              "<p>410 rows × 11 columns</p>\n",
              "</div>"
            ],
            "text/plain": [
              "    thread_id question_id  ...        type predicted_type\n",
              "0      232fcl      232fcl  ...  irrelevant       answered\n",
              "1      221bir     cgikp7a  ...    attacked       answered\n",
              "2      20s1x1     cg6ay9r  ...    answered       answered\n",
              "3      1zyf3k     cfzfpej  ...  irrelevant       answered\n",
              "4      1yfntu     cfka1pw  ...    attacked       answered\n",
              "..        ...         ...  ...         ...            ...\n",
              "405    2sr2st     cns3qwy  ...    answered       answered\n",
              "406    38x7jw      38x7jw  ...  irrelevant     irrelevant\n",
              "407    2ija3a     cl2zs70  ...    answered       answered\n",
              "408    2hqis0     ckve18f  ...    answered       answered\n",
              "409    2qoom3     cn89k72  ...    answered       answered\n",
              "\n",
              "[410 rows x 11 columns]"
            ]
          },
          "metadata": {
            "tags": []
          },
          "execution_count": 262
        }
      ]
    },
    {
      "cell_type": "code",
      "metadata": {
        "id": "HKgVoKWu-wPo"
      },
      "source": [
        "df_final.to_csv('test_output_baselinesolution.csv')\n"
      ],
      "execution_count": 264,
      "outputs": []
    }
  ]
}